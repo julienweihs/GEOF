{
 "cells": [
  {
   "cell_type": "markdown",
   "metadata": {},
   "source": [
    "## Get started with VSCode, GitHub, and jupyter notebooks\n",
    "\n",
    "This manual describes how to install what you need to start working with jupyter notebooks in VSCode using files from GitHub. \n",
    "\n",
    "_____________"
   ]
  },
  {
   "cell_type": "markdown",
   "metadata": {},
   "source": [
    "### 1. Create a working-directory\n",
    "First you need a directory on your computer where you will have the files you work on in Python. This folder can e.g. be \"GEOFPython\". Make sure to note where you create this folder. \n",
    "\n",
    "Within this folder it is important to separate between directories you want to sync up with GitHub and what you want to have only locally, e.g. data files. I'd usually make two subfolders called something like \"NotGit\" and \"GEOFGit\". \n",
    "\n",
    "In your NotGit folder make a text file called \"install_test.py\". We'll use this file later to test out Python installation. The file can be empty for now. "
   ]
  },
  {
   "cell_type": "markdown",
   "metadata": {},
   "source": [
    "### 2. Anaconda: get Python\n",
    "The second step is to download Python. We will use Anaconda.\n",
    "Follow [this](https://github.com/irendundas/EkteData/blob/main/Kom_i_gang/Manual_installer_jupyter_notebook.ipynb) guide - it explains step by step how to download and run a Jupyter Notebook. We'll write most our scripts in Jupyter Notebook. You can of course choose other distributions such as Spyder, this is up to you, but Jupyter Notebook is a good place to start with python and work with geophysics in general since you can take notes in between cells of code to describe what you do and what you see in your figures etc. \n",
    "\n",
    "Follow the guide to the end to check that your installation is working properly. "
   ]
  },
  {
   "cell_type": "markdown",
   "metadata": {},
   "source": [
    "### 3. VSCode: run Python in a tidy way\n",
    "VSCode (Visual Studio Code) is a setup where you can run your python scrips in a tidy way. It has plenty of extra modules and options for efficient coding practice, but starting off we will only think of it as \"where we run python code\". Still, becuase of all the possible add-ons and integration options it is a good tool to get familiar with - maybe you'll want to use some of the other possibilities in VSCode later on. \n",
    "\n",
    "#### 3.1 Download VSCode\n",
    "Download VSCode [here](https://code.visualstudio.com/download). Choose Windows, Linux, or Mac. \n",
    "\n",
    "#### 3.2 Test that your setup works\n",
    "When the download is done open your terminal (specify which) and:\n",
    "- Go to the directory where you have your \"install_test.py\" file (for me this would be `cd W:/Users/iren/Documents/GEOFPython/NotGit`), \n",
    "- Write `code .`. This will open VSCode.\n",
    "- Your files are listed to the left. Open \"install_test.py\" and write some code! You can try importing one of the libraries that are automatically downloaded with anaconda, such as Numpy, and do some math. Make sure you write something that will give an output. (Include screen schot of example). Save the file.\n",
    "- Press the symbol that opens the terminal in VSCode (screenshot). \n",
    "- In the terminal that appared, write `python install_test.py`. \n",
    "- Did you get the expected output? Then your setup is working!\n",
    "\n",
    "This is enough to start working with python locally on your computer. But we also want to collaborate and distribute our code, as well as have version-tracking on our work"
   ]
  },
  {
   "cell_type": "markdown",
   "metadata": {},
   "source": [
    "### 4. Git and GitHub: Track changes and collaborate\n",
    "\n",
    "#### 4.1 Git\n",
    "To use GitHub (where we and you will save and update scripts, exercises, and possibly small data sets) you first need Git. Download Git [here](https://git-scm.com/downloads). Choose Windows, Linux, or Mac. \n",
    "\n",
    "When the option appears (**insert screen shot**) opt for downloading the Git Bash terminal. \n",
    "\n",
    "#### 4.2 Clone a GitHub repository\n",
    "The first step is to get the files you need from the GEOF-UiB repository from GitHub. Follow [this](https://github.com/julienweihs/GEOF_UiB) link: here you see everything that is in the repository. Press the green \"Code\" button to get options for how to download the files. \n",
    "- **Download zip:** download the content as a zip folder and extract everything to your GEOFGit folder. \n",
    "- **Clone the repository:** copy the HTTPS and go to the GEOFGit directory in Git Bash. Print `git clone https://github.com/julienweihs/GEOF_UiB.git` and `Enter`. \n",
    "- **Open with GitHub Desktop:** This option requires that you have downloaded GitHub Desktop, which you can do.  \n",
    "\n",
    "Now that you have your local clone of the repository you have all the files that exist remotely (online). Unless you are the lecturer or TA, leave this directory be, and work in your NotGit directory. If you e.g. want to do a set of exercises, copy the file from the GEOFGit directory into yout NotGit directory and work in this script which is not connected to the remote. This way, if the original exercise is changed, you won't loose any of your work. \n",
    "\n",
    "To update your local GEOFGit directory according to the remote repository open your GEOFGit location in Git Bash and type `git pull`. Do this regularily to always have the newest version of the repository. \n",
    "\n",
    "#### 4.3 The essential Git commands\n",
    "If you are a lecturer or TA you probably want a directory within GEOFGit where you have all the files you need to distribute to the students in you course. Create this directory in you local GEOFGit directory. Now you have made a change in your local version that does not exist on the remote version. To update the remote version with your local changes you need three commands:\n",
    "- `git add <filename>`\n",
    "- `git commit -m <commit message>`\n",
    "- `git push`\n",
    "\n",
    "First you need to \"stage your file for commit\". You do this with `git add < >`, e.g. `git add GEOF100`. You need to stand in the folder where your changed file exist, in this case the GEOFGit folder. \n",
    "\n",
    "Next, you commit your changed file. Your commit message should be short and consise, but descriptive enough that you can find a spesific change later on. E.g. if you need to figure out exactly when you introduced an error, it is useful to write commit messages that properly describe what you've done. In this case I would only write `git commit -m \"initial commit\"`. \n",
    "\n",
    "Do these steps (add and commit) relatively often! This makes the version control more detailed and it's easier to find specific changes later on. \n",
    "\n",
    "Lastly, you write `git push`. This makes the remote version updated according to your local changes. \n",
    "\n",
    "#### 4.4 Create and use your own GitHub repository\n"
   ]
  },
  {
   "cell_type": "code",
   "execution_count": null,
   "metadata": {},
   "outputs": [],
   "source": []
  }
 ],
 "metadata": {
  "kernelspec": {
   "display_name": "Python 3",
   "language": "python",
   "name": "python3"
  },
  "language_info": {
   "codemirror_mode": {
    "name": "ipython",
    "version": 3
   },
   "file_extension": ".py",
   "mimetype": "text/x-python",
   "name": "python",
   "nbconvert_exporter": "python",
   "pygments_lexer": "ipython3",
   "version": "3.8.5"
  }
 },
 "nbformat": 4,
 "nbformat_minor": 2
}
