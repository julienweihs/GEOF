{
 "cells": [
  {
   "cell_type": "markdown",
   "metadata": {},
   "source": [
    "## Get started with VSCode, GitHub, and jupyter notebooks\n",
    "\n",
    "This manual describes how to install what you need to start working with jupyter notebooks in VSCode using files from GitHub. \n",
    "\n",
    "_____________\n",
    "\n",
    "### 1. Create a working-directory\n",
    "First you need a directory on your computer where you will have the files you work on in Python. This folder can e.g. be \"GEOFPython\". Make sure to note where you create this folder. \n",
    "\n",
    "Within this folder it is important to separate between directories you want to sync up with GitHub and what you want to have only locally, e.g. data files. I'd usually make two subfolders called something like \"NotGit\" and \"GEOFGit\". \n",
    "\n",
    "In your NotGit folder make a text file called \"install_test.py\". We'll use this file later to test out Python installation. The file can be empty for now. \n",
    "\n",
    "### 2. Anaconda: get Python\n",
    "The second step is to download Python. We will use Anaconda\n",
    "Follow [this](https://github.com/irendundas/EkteData/blob/main/Kom_i_gang/Manual_installer_jupyter_notebook.ipynb) guide - it explains step by step how to download and run a Jupyter Notebook. We'll write most our scripts in Jupyter Notebook. You can of course choose other distributions such as Spyder, this is up to you, but Jupyter Notebook is a good place to start with python and work with geophysics in general since you can take notes in between cells of code to describe what you do and what you see in your figures etc. \n",
    "\n",
    "Follow the guide to the end to check that your installation is working properly. \n",
    "\n",
    "### 3. VSCode: run Python in a tidy way\n",
    "VSCode (Visual Studio Code) is a setup where you can run your python scrips in a tidy way. It has plenty of extra modules and options for efficient coding practice, but starting off we will only think of it as \"where we run python code\". Still, becuase of all the possible add-ons and integration options it is a good tool to get familiar with - maybe you'll want to use some of the other possibilities in VSCode later on. \n",
    "\n",
    "#### 3.1 Download VSCode\n",
    "Download VSCode [here](https://code.visualstudio.com/download). Choose Windows, Linux, or Mac. \n",
    "\n",
    "#### 3.2 Test that your setup works\n",
    "When the download is done open your terminal (specify which) and:\n",
    "- Go to the directory where you have your \"install_test.py\" file (for me this would be `cd W:/Users/iren/Documents/GEOFPython/NotGit`), \n",
    "- Write `code .`. This will open VSCode.\n",
    "- Your files are listed to the left. Open \"install_test.py\" and write some code! You can try importing one of the libraries that are automatically downloaded with anaconda, such as Numpy, and do some math. Make sure you write something that will give an output. (Include screen schot of example). Save the file.\n",
    "- Press the symbol that opens the terminal in VSCode (screenshot). \n",
    "- In the terminal that appared, write `python install_test.py`. \n",
    "- Did you get the expected output? Then your setup is working!\n",
    "\n",
    "This is enough to start working with python locally on your computer. But we also want to collaborate and distribute our code, as well as have version-tracking on our work\n",
    "\n",
    "### 4. Git and GitHub: Track changes and collaborate\n",
    "\n",
    "#### 4.1 Git\n",
    "To use GitHub (where we and you will save and update scripts, exercises, and possibly small data sets) you first need Git. Download Git [here](https://git-scm.com/downloads). Choose Windows, Linux, or Mac. \n",
    "\n",
    "When the option appears (**insert screen shot**) opt for downloading the Git Bash terminal. \n",
    "\n",
    "#### 4.2 GitHub\n",
    "\n"
   ]
  },
  {
   "cell_type": "code",
   "execution_count": null,
   "metadata": {},
   "outputs": [],
   "source": []
  }
 ],
 "metadata": {
  "kernelspec": {
   "display_name": "Python 3",
   "language": "python",
   "name": "python3"
  },
  "language_info": {
   "codemirror_mode": {
    "name": "ipython",
    "version": 3
   },
   "file_extension": ".py",
   "mimetype": "text/x-python",
   "name": "python",
   "nbconvert_exporter": "python",
   "pygments_lexer": "ipython3",
   "version": "3.7.4"
  }
 },
 "nbformat": 4,
 "nbformat_minor": 2
}
