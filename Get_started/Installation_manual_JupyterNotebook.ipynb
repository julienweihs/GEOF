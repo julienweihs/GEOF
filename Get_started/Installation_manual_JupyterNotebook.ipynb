{
 "cells": [
  {
   "cell_type": "markdown",
   "metadata": {},
   "source": [
    "## Install Jupyter Notebook\n",
    "\n",
    "This manual \"belongs\" to step 2 in the full Anaconda/VSCode/GitHub [installation guide](https://github.com/julienweihs/GEOF_UiB/blob/main/Get_started/Installation_manual_Anaconda_VSCode_Git_GitHub.ipynb).\n",
    "_____________"
   ]
  },
  {
   "cell_type": "markdown",
   "metadata": {},
   "source": [
    "Follow this [link](https://www.anaconda.com/download) and choose 64-bit Graphical installer. \n",
    "\n",
    "Follow these [steps](https://docs.anaconda.com/free/anaconda/install/windows/), but skip step nr 11. \n",
    "\n",
    "Make sure the detials in **step 7** are correct and that there is no spaces in the path where you save Anaconda.\n",
    "\n",
    "**Step 9** (the installation) can take some time. For me it took 15 min. \n",
    "\n",
    "For the last step, nr **14**, do this: press the start-button, search for \"Anaconda Prompt\" and open. You might have to open as administrator, but this was not necessary for me. \n",
    "\n",
    "In the terminal that appears, type `python` and Enter. Check that you get information about you python version and then type `quit()` and Enter. \n",
    "\n",
    "Restart your computer. \n",
    "\n",
    "To open Jupyter notebook open Anaconda Prompt again. Go to the folder where you have your NotGit and GEOFGit folders (`cd <path to file>` and Enter). You find the path to the file in the top line in you File explorer on windows. On Mac or Linux I think you right click, look at properties, and then copy the path. Then, in your terminal, type `jupyter notebook` and Enter. \n",
    "\n",
    "Jupyter Notebook will open in the web browser window you used last. Here you see all the folders and files in NotGit and GEOFGit (so far only install_test.py in the NotGit folder). Once you've completed step 4 of the [installation guide](https://github.com/julienweihs/GEOF_UiB/blob/main/Get_started/Installation_manual_Anaconda_VSCode_Git_GitHub.ipynb) you can enter e.g. the folder Jupyter, and you'll find an exercise and an overview over rules, syntax etc in python. You can try to run through \"Del0...\" to check that everything works.\n",
    "\n",
    "If you want to make your own file, go into your NotGit directory and press the \"New\" button in the upper right part of the page. Select \"Python 3\" and a new window opens. Now you can start writing code and text. You can also just open a text file and change the file extension to .py, and you'll have a standard python file. \n"
   ]
  },
  {
   "cell_type": "code",
   "execution_count": null,
   "metadata": {},
   "outputs": [],
   "source": []
  }
 ],
 "metadata": {
  "kernelspec": {
   "display_name": "Python 3",
   "language": "python",
   "name": "python3"
  },
  "language_info": {
   "codemirror_mode": {
    "name": "ipython",
    "version": 3
   },
   "file_extension": ".py",
   "mimetype": "text/x-python",
   "name": "python",
   "nbconvert_exporter": "python",
   "pygments_lexer": "ipython3",
   "version": "3.7.4"
  }
 },
 "nbformat": 4,
 "nbformat_minor": 4
}
