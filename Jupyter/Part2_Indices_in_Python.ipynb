{
 "cells": [
  {
   "cell_type": "markdown",
   "metadata": {},
   "source": [
    "## Indeksering\n",
    "\n",
    "_____________________\n",
    "*This is a translated version of Part 1 of the intro course to programming in Python written for **Ekte Data** (\"Real Data\"). Take a look at our [GitHub](https://github.com/irendundas/EkteData/tree/main) for more exercises for working with real data in Python. Also, we're working on translating all exercises, but we're not quite done yet, so some of the links still go to exercises in norwegian.*\n",
    "\n",
    "*-- Vår Dundas, 2023*\n",
    "\n",
    "___________________________\n",
    "\n",
    "*This exercise is originally \"The precipitation exercise part 1\". The Precipitation exercises part 1-5 are meant as a supplementary to the exercise [\"Precipitation in Norway\"](https://github.com/irendundas/EkteData/tree/main/Nedb%C3%B8rsoppgaven). This exercise is a longer exercise that touches upon several elements of programming. The intention is that if you first do the Precipitation exercises part 1-5 and the example at the beginning of the exercise \"Precipitation in Norway\", then all the programming will be repetition and you can focus on the scientific interpreation of the data you work with. This provides both an introduction to programming in Python and experience with analyzing data and interpreting them to understand scientific processes in nature and the climate system.*\n",
    "\n",
    "\n",
    "-----------\n",
    "\n",
    "In the previous exercise, [Part1_Intro_to_programing_in_python.ipynb](https://github.com/julienweihs/GEOF/blob/main/Jupyter/Part1_Intro_to_programing_in_python.ipynb) (*Part1 intro* from now on) we introduced indexing and working with real data in Python. In this part we continue with specific focus on indexing. Indexation in Python can be confusing, but we use it constantly when programming, so it's recomended to spend some time on this in the beginning.\n",
    "\n",
    "**Hint:** In the [CheatSheet.ipynb](https://github.com/julienweihs/GEOF/blob/main/Jupyter/Huskeregler.ipynb) you find general rules for programming in Python, including rules for indexing. \n",
    "\n",
    "We'll use the dataset of yearly temperature in Bergen. \n",
    "\n",
    "#### Load the packages you need "
   ]
  },
  {
   "cell_type": "code",
   "execution_count": 1,
   "metadata": {},
   "outputs": [],
   "source": [
    "import numpy as np # mathematical operations etc\n",
    "import matplotlib.pyplot as plt # for figures\n",
    "\n",
    "import sys\n",
    "# !!! Replace W:\\Work\\Documents\\GEOF_UiB\\Python with the path \n",
    "# on YOUR PC !!! \n",
    "# One clean way to do this is to locate your EkteDataFunk.py-file, \n",
    "# right-click it, and use the 'Copy Path' command\n",
    "sys.path.append(r\"W:\\Work\\Documents\\GEOF_UiB\\Python\")\n",
    "from EkteDataFunk import loadData # to load data"
   ]
  },
  {
   "cell_type": "markdown",
   "metadata": {},
   "source": [
    "### Section 1: Load a data set\n",
    "\n",
    "Load the data set \"TempBergenYearlyNonan.txt\". In the exercises [Nedbørsoppgaven/Del2_RyddDatasett](https://github.com/irendundas/EkteData/blob/main/Nedb%C3%B8rsoppgaven/Del2_RyddDatasett.ipynb) and [Konseptoppgaver/Funksjoner](https://github.com/irendundas/EkteData/blob/main/Konseptoppgaver/Funksjoner.ipynb) there are details about how the file loading works. In this exercise, however, we focus on analysing the data and not how to load in into Python."
   ]
  },
  {
   "cell_type": "code",
   "execution_count": 2,
   "metadata": {},
   "outputs": [
    {
     "name": "stdout",
     "output_type": "stream",
     "text": [
      "(160, 2)\n"
     ]
    },
    {
     "data": {
      "text/plain": [
       "array([[1861.        ,    8.33636364],\n",
       "       [1862.        ,    7.71666667],\n",
       "       [1863.        ,    7.75833333],\n",
       "       [1864.        ,    6.86666667],\n",
       "       [1865.        ,    7.225     ],\n",
       "       [1866.        ,    7.41666667],\n",
       "       [1867.        ,    6.55      ],\n",
       "       [1868.        ,    7.975     ],\n",
       "       [1869.        ,    6.45      ],\n",
       "       [1870.        ,    6.575     ],\n",
       "       [1871.        ,    7.64545455],\n",
       "       [1872.        ,    8.275     ],\n",
       "       [1873.        ,    7.83333333],\n",
       "       [1874.        ,    7.175     ],\n",
       "       [1875.        ,    7.01666667],\n",
       "       [1876.        ,    6.78333333],\n",
       "       [1877.        ,    6.55      ],\n",
       "       [1878.        ,    7.06666667],\n",
       "       [1879.        ,    6.69166667],\n",
       "       [1880.        ,    7.53333333],\n",
       "       [1881.        ,    6.36666667],\n",
       "       [1882.        ,    7.9       ],\n",
       "       [1883.        ,    7.6       ],\n",
       "       [1884.        ,    8.20833333],\n",
       "       [1885.        ,    6.70833333],\n",
       "       [1886.        ,    6.83333333],\n",
       "       [1887.        ,    6.99166667],\n",
       "       [1888.        ,    6.55      ],\n",
       "       [1889.        ,    7.925     ],\n",
       "       [1890.        ,    7.78333333],\n",
       "       [1891.        ,    7.73333333],\n",
       "       [1892.        ,    6.26666667],\n",
       "       [1893.        ,    7.49166667],\n",
       "       [1894.        ,    8.33333333],\n",
       "       [1895.        ,    6.75833333],\n",
       "       [1896.        ,    7.40833333],\n",
       "       [1897.        ,    7.25      ],\n",
       "       [1898.        ,    7.15      ],\n",
       "       [1899.        ,    6.96666667],\n",
       "       [1900.        ,    6.70833333],\n",
       "       [1901.        ,    7.675     ],\n",
       "       [1902.        ,    6.40833333],\n",
       "       [1903.        ,    7.18333333],\n",
       "       [1904.        ,    6.89166667],\n",
       "       [1905.        ,    7.08333333],\n",
       "       [1906.        ,    7.38333333],\n",
       "       [1907.        ,    6.95      ],\n",
       "       [1908.        ,    7.575     ],\n",
       "       [1909.        ,    6.53333333],\n",
       "       [1910.        ,    7.79166667],\n",
       "       [1911.        ,    7.56666667],\n",
       "       [1912.        ,    7.59166667],\n",
       "       [1913.        ,    7.81666667],\n",
       "       [1914.        ,    7.93333333],\n",
       "       [1915.        ,    5.95833333],\n",
       "       [1916.        ,    7.1       ],\n",
       "       [1917.        ,    6.60833333],\n",
       "       [1918.        ,    7.5       ],\n",
       "       [1919.        ,    6.125     ],\n",
       "       [1920.        ,    7.68333333],\n",
       "       [1921.        ,    7.2       ],\n",
       "       [1922.        ,    6.425     ],\n",
       "       [1923.        ,    6.46666667],\n",
       "       [1924.        ,    7.28333333],\n",
       "       [1925.        ,    7.85833333],\n",
       "       [1926.        ,    7.73333333],\n",
       "       [1927.        ,    7.19166667],\n",
       "       [1928.        ,    7.14166667],\n",
       "       [1929.        ,    7.04166667],\n",
       "       [1930.        ,    8.50833333],\n",
       "       [1931.        ,    6.70833333],\n",
       "       [1932.        ,    7.58333333],\n",
       "       [1933.        ,    8.25833333],\n",
       "       [1934.        ,    8.55833333],\n",
       "       [1935.        ,    7.69166667],\n",
       "       [1936.        ,    8.275     ],\n",
       "       [1937.        ,    7.98333333],\n",
       "       [1938.        ,    8.30833333],\n",
       "       [1939.        ,    8.23333333],\n",
       "       [1940.        ,    7.10833333],\n",
       "       [1941.        ,    6.975     ],\n",
       "       [1942.        ,    6.475     ],\n",
       "       [1943.        ,    8.2       ],\n",
       "       [1944.        ,    7.75833333],\n",
       "       [1945.        ,    8.275     ],\n",
       "       [1946.        ,    7.93333333],\n",
       "       [1947.        ,    7.94166667],\n",
       "       [1948.        ,    8.15833333],\n",
       "       [1949.        ,    8.125     ],\n",
       "       [1950.        ,    8.275     ],\n",
       "       [1951.        ,    7.6       ],\n",
       "       [1952.        ,    7.125     ],\n",
       "       [1953.        ,    8.625     ],\n",
       "       [1954.        ,    7.70833333],\n",
       "       [1955.        ,    7.3       ],\n",
       "       [1956.        ,    7.225     ],\n",
       "       [1957.        ,    7.93333333],\n",
       "       [1958.        ,    7.4       ],\n",
       "       [1959.        ,    8.56666667],\n",
       "       [1960.        ,    8.18333333],\n",
       "       [1961.        ,    8.25833333],\n",
       "       [1962.        ,    7.01666667],\n",
       "       [1963.        ,    7.23333333],\n",
       "       [1964.        ,    7.525     ],\n",
       "       [1965.        ,    7.25      ],\n",
       "       [1966.        ,    6.90833333],\n",
       "       [1967.        ,    7.725     ],\n",
       "       [1968.        ,    7.48333333],\n",
       "       [1969.        ,    7.4       ],\n",
       "       [1970.        ,    7.09166667],\n",
       "       [1971.        ,    7.775     ],\n",
       "       [1972.        ,    7.83333333],\n",
       "       [1973.        ,    7.39166667],\n",
       "       [1974.        ,    8.59166667],\n",
       "       [1975.        ,    8.20833333],\n",
       "       [1976.        ,    7.5       ],\n",
       "       [1977.        ,    7.46666667],\n",
       "       [1978.        ,    7.36666667],\n",
       "       [1979.        ,    6.40833333],\n",
       "       [1980.        ,    7.675     ],\n",
       "       [1981.        ,    6.9       ],\n",
       "       [1982.        ,    8.1       ],\n",
       "       [1983.        ,    7.78333333],\n",
       "       [1984.        ,    7.95833333],\n",
       "       [1985.        ,    6.8       ],\n",
       "       [1986.        ,    7.10833333],\n",
       "       [1987.        ,    7.23333333],\n",
       "       [1988.        ,    8.225     ],\n",
       "       [1989.        ,    8.475     ],\n",
       "       [1990.        ,    8.91666667],\n",
       "       [1991.        ,    8.15833333],\n",
       "       [1992.        ,    8.53333333],\n",
       "       [1993.        ,    7.56666667],\n",
       "       [1994.        ,    7.675     ],\n",
       "       [1995.        ,    7.75      ],\n",
       "       [1996.        ,    7.16666667],\n",
       "       [1997.        ,    8.59166667],\n",
       "       [1998.        ,    7.975     ],\n",
       "       [1999.        ,    8.575     ],\n",
       "       [2000.        ,    8.81666667],\n",
       "       [2001.        ,    7.68333333],\n",
       "       [2002.        ,    8.71666667],\n",
       "       [2003.        ,    8.73333333],\n",
       "       [2004.        ,    8.55      ],\n",
       "       [2005.        ,    8.4       ],\n",
       "       [2006.        ,    9.31666667],\n",
       "       [2007.        ,    8.4       ],\n",
       "       [2008.        ,    8.875     ],\n",
       "       [2009.        ,    8.6       ],\n",
       "       [2010.        ,    6.36666667],\n",
       "       [2011.        ,    8.78333333],\n",
       "       [2012.        ,    7.83333333],\n",
       "       [2013.        ,    7.96666667],\n",
       "       [2014.        ,    9.90833333],\n",
       "       [2015.        ,    8.73333333],\n",
       "       [2016.        ,    8.6       ],\n",
       "       [2017.        ,    8.625     ],\n",
       "       [2018.        ,    8.69166667],\n",
       "       [2019.        ,    8.83333333],\n",
       "       [2020.        ,    9.43333333]])"
      ]
     },
     "execution_count": 2,
     "metadata": {},
     "output_type": "execute_result"
    }
   ],
   "source": [
    "file='TempBergenYearlyNonan.txt'\n",
    "data = loadData(file, rydd='N')\n",
    "\n",
    "# The line below prints the dimensions to the dataset \"data\". You have to write\n",
    "# \"print()\" becaus only the last line in a code cell is printed automatically. \n",
    "print(data.shape)  \n",
    "\n",
    "data   # This prints all the values in the variable \"data\""
   ]
  },
  {
   "cell_type": "markdown",
   "metadata": {},
   "source": [
    "The output of `data.shape` is `(160, 2)`. This means that `data` is an array with 160 rows and 2 columns. `data` has two dimensions. "
   ]
  },
  {
   "cell_type": "markdown",
   "metadata": {},
   "source": [
    "### Section 2: Make a figure of your data\n",
    "It's always practical to start with making a simple figure to visualize what you're working with. Remember to include title and labels on your axes so that you can interpret the figure without the code. \n",
    "\n",
    "The code cell below plots all the data in column 2 of the array `data` (precipitation) as a function of the first column of `data` (time). \n",
    "\n",
    "- `data[:,0]` means `:` \"all the rows\", in the column with index `0`, i.e., column nr 1. \n",
    "- `data[:,1]` means `:` \"all the rows\", in the column with index `1`, i.e., column nr 2. \n"
   ]
  },
  {
   "cell_type": "code",
   "execution_count": 4,
   "metadata": {},
   "outputs": [
    {
     "data": {
      "image/png": "[encoded data removed]",
      "text/plain": [
       "<Figure size 432x288 with 1 Axes>"
      ]
     },
     "metadata": {
      "needs_background": "light"
     },
     "output_type": "display_data"
    }
   ],
   "source": [
    "plt.plot(data[:,0], data[:,1])\n",
    "plt.title('Yearly temperature, Bergen')\n",
    "plt.xlabel('Year')\n",
    "plt.ylabel('Temperature [\\u2103]') # \\u2103 is code for \"degrees celcius\".\n",
    "# The line below, plt.show(), only stops a text-line from being printed when \n",
    "# drawind the elements of the figure. Run this cell with \"#\" before\n",
    "# plt.show() to see. \n",
    "plt.show() "
   ]
  },
  {
   "cell_type": "markdown",
   "metadata": {},
   "source": [
    "### Section 3: Save the data as new variables\n",
    "\n",
    "`data.shape` showed that the dataset of temperaure has 160 rows and 2 columns. If we want all the years and save them in a vector called \"time\", we write `time=data[:,0]`, i.e., *all the rows*, and the *first column*. "
   ]
  },
  {
   "cell_type": "code",
   "execution_count": 6,
   "metadata": {},
   "outputs": [
    {
     "data": {
      "text/plain": [
       "array([1861., 1862., 1863., 1864., 1865., 1866., 1867., 1868., 1869.,\n",
       "       1870., 1871., 1872., 1873., 1874., 1875., 1876., 1877., 1878.,\n",
       "       1879., 1880., 1881., 1882., 1883., 1884., 1885., 1886., 1887.,\n",
       "       1888., 1889., 1890., 1891., 1892., 1893., 1894., 1895., 1896.,\n",
       "       1897., 1898., 1899., 1900., 1901., 1902., 1903., 1904., 1905.,\n",
       "       1906., 1907., 1908., 1909., 1910., 1911., 1912., 1913., 1914.,\n",
       "       1915., 1916., 1917., 1918., 1919., 1920., 1921., 1922., 1923.,\n",
       "       1924., 1925., 1926., 1927., 1928., 1929., 1930., 1931., 1932.,\n",
       "       1933., 1934., 1935., 1936., 1937., 1938., 1939., 1940., 1941.,\n",
       "       1942., 1943., 1944., 1945., 1946., 1947., 1948., 1949., 1950.,\n",
       "       1951., 1952., 1953., 1954., 1955., 1956., 1957., 1958., 1959.,\n",
       "       1960., 1961., 1962., 1963., 1964., 1965., 1966., 1967., 1968.,\n",
       "       1969., 1970., 1971., 1972., 1973., 1974., 1975., 1976., 1977.,\n",
       "       1978., 1979., 1980., 1981., 1982., 1983., 1984., 1985., 1986.,\n",
       "       1987., 1988., 1989., 1990., 1991., 1992., 1993., 1994., 1995.,\n",
       "       1996., 1997., 1998., 1999., 2000., 2001., 2002., 2003., 2004.,\n",
       "       2005., 2006., 2007., 2008., 2009., 2010., 2011., 2012., 2013.,\n",
       "       2014., 2015., 2016., 2017., 2018., 2019., 2020.])"
      ]
     },
     "execution_count": 6,
     "metadata": {},
     "output_type": "execute_result"
    }
   ],
   "source": [
    "time=data[:,0]\n",
    "time"
   ]
  },
  {
   "cell_type": "markdown",
   "metadata": {},
   "source": [
    "### Exercise 1:\n",
    "\n",
    "Print out\n",
    "- the first five rows of `data` and both columns\n",
    "- the two last values of `time`\n",
    "- year nr 5 to 10 of `time`\n"
   ]
  },
  {
   "cell_type": "code",
   "execution_count": null,
   "metadata": {},
   "outputs": [],
   "source": []
  },
  {
   "cell_type": "markdown",
   "metadata": {},
   "source": [
    "### Exercise 2:\n",
    "- Make a variable `temp` that contains the second column with temperature. \n",
    "- Make a figure similar to the one above by using the variables `time` and `temp`."
   ]
  },
  {
   "cell_type": "code",
   "execution_count": null,
   "metadata": {},
   "outputs": [],
   "source": []
  },
  {
   "cell_type": "markdown",
   "metadata": {},
   "source": [
    "### Section 4: Study a selected part of the data set\n",
    "\n",
    "We have 160 years of data, but sometimes you want to study a specific part of the data set you have. In the previous part, [Part1_Intro](https://github.com/julienweihs/GEOF/blob/main/Jupyter/Part1_Intro_to_programing_in_python.ipynb), we looked at the first and last 10 years, the last 50 years etc. But what if we suspect that someting very interesting happend between 1873 and 1947? Then we'll want to zoom in on this time period by selecting only these years. To do this, we need to find the indices of 1873 and 1947 in the vector `time`. We'll go through two different ways of doing this. \n",
    "\n",
    "### Sidenote: There are always selveral different ways of doing the same thing when you're programming in Python!\n",
    "This doesn't mean that one method is better or worse than another. A rule of thumb is that tidy is good. Another good rule is to use functions from libraries - this helps you avoid errors and typos. \n",
    "\n",
    "Since several methods can lead you to the correct answer, it's not always possible to provide a single correct solution to an exercise. This can be frustrating in the beginning, but it's also liberating because it means that you can choose the method that is most logical to you. Just remember to comment in the code what you're thinking so that you don't have to discover the logic again every time you need the code. \n",
    "\n",
    "**Method 1:**\n",
    "This is perhaps the most intuitive method, but it's not so pretty, and it's easy to introduce a typo. \n",
    "\n",
    "The logic is as follows: Because the time step in `time` is one whole year, you can find the number of years between the year you're interested in and the startyear of the data. This difference in years equals the index of the year you're after. "
   ]
  },
  {
   "cell_type": "code",
   "execution_count": 9,
   "metadata": {},
   "outputs": [
    {
     "data": {
      "text/plain": [
       "(12.0, 86.0)"
      ]
     },
     "execution_count": 9,
     "metadata": {},
     "output_type": "execute_result"
    }
   ],
   "source": [
    "# The idea behing the variable name is: \"id=index\", \"t=time\", and \"1,2=start/end\"\n",
    "idt1=1873-tid[0] \n",
    "idt2=1947-tid[0]\n",
    "idt1, idt2"
   ]
  },
  {
   "cell_type": "markdown",
   "metadata": {},
   "source": [
    "`idt1` is 12 and `idt2` is 86. Then we expect that `tid[12]=tid[idt1]=1873` and `tid[86]=tid[idt2]=1947`. Try: "
   ]
  },
  {
   "cell_type": "code",
   "execution_count": 10,
   "metadata": {},
   "outputs": [
    {
     "data": {
      "text/plain": [
       "(1873.0, 1947.0)"
      ]
     },
     "execution_count": 10,
     "metadata": {},
     "output_type": "execute_result"
    }
   ],
   "source": [
    "tid[12], tid[86]"
   ]
  },
  {
   "cell_type": "markdown",
   "metadata": {},
   "source": [
    "This looks good. What if we try with the variable names of the indices we've found?"
   ]
  },
  {
   "cell_type": "code",
   "execution_count": 11,
   "metadata": {
    "scrolled": true
   },
   "outputs": [
    {
     "ename": "IndexError",
     "evalue": "only integers, slices (`:`), ellipsis (`...`), numpy.newaxis (`None`) and integer or boolean arrays are valid indices",
     "output_type": "error",
     "traceback": [
      "\u001b[1;31m---------------------------------------------------------------------------\u001b[0m",
      "\u001b[1;31mIndexError\u001b[0m                                Traceback (most recent call last)",
      "\u001b[1;32m<ipython-input-11-d6150d345268>\u001b[0m in \u001b[0;36m<module>\u001b[1;34m\u001b[0m\n\u001b[1;32m----> 1\u001b[1;33m \u001b[0mtid\u001b[0m\u001b[1;33m[\u001b[0m\u001b[0midt1\u001b[0m\u001b[1;33m]\u001b[0m\u001b[1;33m\u001b[0m\u001b[1;33m\u001b[0m\u001b[0m\n\u001b[0m",
      "\u001b[1;31mIndexError\u001b[0m: only integers, slices (`:`), ellipsis (`...`), numpy.newaxis (`None`) and integer or boolean arrays are valid indices"
     ]
    }
   ],
   "source": [
    "tid[idt1]"
   ]
  },
  {
   "cell_type": "markdown",
   "metadata": {},
   "source": [
    "This throws an error message. The problem is that `idt1=12.0` isn't an integer, but a *float*. A *float* is a decimal value, but indices can only be \"`integers, slices (`:`), ellipsis (`...`), numpy.newaxis (`None`) and integer or boolean arrays`\" as stated at the bottom of the error message. We focus on the integer part of this for now. If we convert `idt1` and `idt2` to integers this solves our problem. "
   ]
  },
  {
   "cell_type": "code",
   "execution_count": 12,
   "metadata": {},
   "outputs": [
    {
     "data": {
      "text/plain": [
       "(12, 86)"
      ]
     },
     "execution_count": 12,
     "metadata": {},
     "output_type": "execute_result"
    }
   ],
   "source": [
    "idt1=int(idt1)\n",
    "idt2=int(idt2)\n",
    "idt1, idt2"
   ]
  },
  {
   "cell_type": "markdown",
   "metadata": {},
   "source": [
    "Now we can use the indices tid1 and tid2: "
   ]
  },
  {
   "cell_type": "code",
   "execution_count": 13,
   "metadata": {},
   "outputs": [
    {
     "data": {
      "text/plain": [
       "(1873.0, 1947.0)"
      ]
     },
     "execution_count": 13,
     "metadata": {},
     "output_type": "execute_result"
    }
   ],
   "source": [
    "tid[idt1], tid[idt2]"
   ]
  },
  {
   "cell_type": "markdown",
   "metadata": {},
   "source": [
    "**Make a figure that shows temperature from 1873 to and including 1947**\n",
    "\n",
    "Recall that `[x:y]` does **not** include the value at index `y`. So to include all the indices *from 1873 to and including 1947* we have to write `[idt1:idt2+1]`."
   ]
  },
  {
   "cell_type": "code",
   "execution_count": 14,
   "metadata": {},
   "outputs": [
    {
     "data": {
      "image/png": "[encoded data removed]",
      "text/plain": [
       "<Figure size 432x288 with 1 Axes>"
      ]
     },
     "metadata": {
      "needs_background": "light"
     },
     "output_type": "display_data"
    }
   ],
   "source": [
    "plt.plot(tid[idt1:idt2+1], temp[idt1:idt2+1])\n",
    "plt.title('Yearly temperature, Bergen')\n",
    "plt.xlabel('Year')\n",
    "plt.ylabel('Temperature [\\u2103]')\n",
    "plt.show()"
   ]
  },
  {
   "cell_type": "markdown",
   "metadata": {},
   "source": [
    "**Method 2:**\n",
    "This method is more efficient and tidy, which makes it practical to use in large datasets and complicated code. \n",
    "\n",
    "We introduce a new function `np.where()`.\n",
    "\n",
    "This function lets you find values that match a criteria, e.g., that time should be 1873 or larger:"
   ]
  },
  {
   "cell_type": "code",
   "execution_count": 15,
   "metadata": {},
   "outputs": [
    {
     "data": {
      "text/plain": [
       "(array([ 12,  13,  14,  15,  16,  17,  18,  19,  20,  21,  22,  23,  24,\n",
       "         25,  26,  27,  28,  29,  30,  31,  32,  33,  34,  35,  36,  37,\n",
       "         38,  39,  40,  41,  42,  43,  44,  45,  46,  47,  48,  49,  50,\n",
       "         51,  52,  53,  54,  55,  56,  57,  58,  59,  60,  61,  62,  63,\n",
       "         64,  65,  66,  67,  68,  69,  70,  71,  72,  73,  74,  75,  76,\n",
       "         77,  78,  79,  80,  81,  82,  83,  84,  85,  86,  87,  88,  89,\n",
       "         90,  91,  92,  93,  94,  95,  96,  97,  98,  99, 100, 101, 102,\n",
       "        103, 104, 105, 106, 107, 108, 109, 110, 111, 112, 113, 114, 115,\n",
       "        116, 117, 118, 119, 120, 121, 122, 123, 124, 125, 126, 127, 128,\n",
       "        129, 130, 131, 132, 133, 134, 135, 136, 137, 138, 139, 140, 141,\n",
       "        142, 143, 144, 145, 146, 147, 148, 149, 150, 151, 152, 153, 154,\n",
       "        155, 156, 157, 158, 159], dtype=int64),)"
      ]
     },
     "execution_count": 15,
     "metadata": {},
     "output_type": "execute_result"
    }
   ],
   "source": [
    "np.where(time>=1873)"
   ]
  },
  {
   "cell_type": "markdown",
   "metadata": {},
   "source": [
    "Or 1947 or less:"
   ]
  },
  {
   "cell_type": "code",
   "execution_count": 16,
   "metadata": {},
   "outputs": [
    {
     "data": {
      "text/plain": [
       "(array([ 0,  1,  2,  3,  4,  5,  6,  7,  8,  9, 10, 11, 12, 13, 14, 15, 16,\n",
       "        17, 18, 19, 20, 21, 22, 23, 24, 25, 26, 27, 28, 29, 30, 31, 32, 33,\n",
       "        34, 35, 36, 37, 38, 39, 40, 41, 42, 43, 44, 45, 46, 47, 48, 49, 50,\n",
       "        51, 52, 53, 54, 55, 56, 57, 58, 59, 60, 61, 62, 63, 64, 65, 66, 67,\n",
       "        68, 69, 70, 71, 72, 73, 74, 75, 76, 77, 78, 79, 80, 81, 82, 83, 84,\n",
       "        85, 86], dtype=int64),)"
      ]
     },
     "execution_count": 16,
     "metadata": {},
     "output_type": "execute_result"
    }
   ],
   "source": [
    "np.where(time<=1947)"
   ]
  },
  {
   "cell_type": "markdown",
   "metadata": {},
   "source": [
    "We're interested in all the values in `time` that match both these criteria. We can give two criteria to `np.where()` in the same line:\n"
   ]
  },
  {
   "cell_type": "code",
   "execution_count": 17,
   "metadata": {},
   "outputs": [
    {
     "data": {
      "text/plain": [
       "(array([12, 13, 14, 15, 16, 17, 18, 19, 20, 21, 22, 23, 24, 25, 26, 27, 28,\n",
       "        29, 30, 31, 32, 33, 34, 35, 36, 37, 38, 39, 40, 41, 42, 43, 44, 45,\n",
       "        46, 47, 48, 49, 50, 51, 52, 53, 54, 55, 56, 57, 58, 59, 60, 61, 62,\n",
       "        63, 64, 65, 66, 67, 68, 69, 70, 71, 72, 73, 74, 75, 76, 77, 78, 79,\n",
       "        80, 81, 82, 83, 84, 85, 86], dtype=int64),)"
      ]
     },
     "execution_count": 17,
     "metadata": {},
     "output_type": "execute_result"
    }
   ],
   "source": [
    "idt=np.where((time>=1873) & (time<=1947))\n",
    "idt"
   ]
  },
  {
   "cell_type": "markdown",
   "metadata": {},
   "source": [
    "Recall the first and last of these indices from method 1?\n",
    "These are the indices we want to give to `time`."
   ]
  },
  {
   "cell_type": "code",
   "execution_count": 18,
   "metadata": {},
   "outputs": [
    {
     "data": {
      "text/plain": [
       "array([1873., 1874., 1875., 1876., 1877., 1878., 1879., 1880., 1881.,\n",
       "       1882., 1883., 1884., 1885., 1886., 1887., 1888., 1889., 1890.,\n",
       "       1891., 1892., 1893., 1894., 1895., 1896., 1897., 1898., 1899.,\n",
       "       1900., 1901., 1902., 1903., 1904., 1905., 1906., 1907., 1908.,\n",
       "       1909., 1910., 1911., 1912., 1913., 1914., 1915., 1916., 1917.,\n",
       "       1918., 1919., 1920., 1921., 1922., 1923., 1924., 1925., 1926.,\n",
       "       1927., 1928., 1929., 1930., 1931., 1932., 1933., 1934., 1935.,\n",
       "       1936., 1937., 1938., 1939., 1940., 1941., 1942., 1943., 1944.,\n",
       "       1945., 1946., 1947.])"
      ]
     },
     "execution_count": 18,
     "metadata": {},
     "output_type": "execute_result"
    }
   ],
   "source": [
    "time[idt]"
   ]
  },
  {
   "cell_type": "markdown",
   "metadata": {},
   "source": [
    "with this method we also avoid the issue with floats/integers. \n",
    "\n",
    "Make a figure to show that the two methos to find the desired time period give the same result. Below you only see one line, although we've plotted two. This is because the output of both methods are the same, so that the lines are plotted perfectly on top of each other. On default, matplotlib always plots in blue first, then orange. "
   ]
  },
  {
   "cell_type": "code",
   "execution_count": 19,
   "metadata": {},
   "outputs": [
    {
     "data": {
      "image/png": "[encoded data removed]",
      "text/plain": [
       "<Figure size 432x288 with 1 Axes>"
      ]
     },
     "metadata": {
      "needs_background": "light"
     },
     "output_type": "display_data"
    }
   ],
   "source": [
    "# Method 1\n",
    "plt.plot(time[idt1:idt2+1], temp[idt1:idt2+1])\n",
    "\n",
    "# Method 2\n",
    "plt.plot(time[idt], temp[idt])\n",
    "\n",
    "plt.title('Yearly temperature, Bergen')\n",
    "plt.xlabel('Year')\n",
    "plt.ylabel('Temperature [\\u2103]')\n",
    "plt.show()\n",
    "\n"
   ]
  },
  {
   "cell_type": "markdown",
   "metadata": {},
   "source": [
    "#### Take home message from Section 4:\n",
    "\n",
    "You can pass indices to a variable in two different ways. \n",
    "\n",
    "- `x[2:8]`, i.e., Method 1\n",
    "- `x[[2, 3, 4, 5, 6, 7]]`, i.e., Method 2"
   ]
  },
  {
   "cell_type": "code",
   "execution_count": 21,
   "metadata": {},
   "outputs": [
    {
     "data": {
      "text/plain": [
       "(array([1863., 1864., 1865., 1866., 1867., 1868.]),\n",
       " array([1863., 1864., 1865., 1866., 1867., 1868.]))"
      ]
     },
     "execution_count": 21,
     "metadata": {},
     "output_type": "execute_result"
    }
   ],
   "source": [
    "time[2:8], time[[2, 3, 4, 5, 6, 7]]"
   ]
  },
  {
   "cell_type": "markdown",
   "metadata": {},
   "source": [
    "## Exercise 3\n",
    "Write out the years and the temperature for all the years from the year you were born up until 2016. Use Method 1 first, then Method 2. "
   ]
  },
  {
   "cell_type": "code",
   "execution_count": 22,
   "metadata": {},
   "outputs": [],
   "source": [
    "# Metode 1\n"
   ]
  },
  {
   "cell_type": "code",
   "execution_count": 23,
   "metadata": {},
   "outputs": [],
   "source": [
    "# Metode 2:\n"
   ]
  },
  {
   "cell_type": "markdown",
   "metadata": {},
   "source": [
    "## Exercise 4\n",
    "\n",
    "Write out the years and the temperature for all the years from the year you were born until and including the end of the dataset. Use the method you prefer, but make dure that the last year (2020) is included. "
   ]
  },
  {
   "cell_type": "code",
   "execution_count": null,
   "metadata": {},
   "outputs": [],
   "source": []
  },
  {
   "cell_type": "markdown",
   "metadata": {},
   "source": [
    "## Exercise 5\n",
    "Write out the years and the temperature for the 1900s."
   ]
  },
  {
   "cell_type": "code",
   "execution_count": null,
   "metadata": {},
   "outputs": [],
   "source": []
  },
  {
   "cell_type": "markdown",
   "metadata": {},
   "source": [
    "### Section 5: Select datapoints with an even interval\n",
    "\n",
    "Sometimes you want to subsample a dataset, i.e., select data at an interval. Maybe you just want to look at Wednesdays in a datset with daily resolution? Or you just want data from your birthday from a dataset spanning several years? Or study insolation at 12 pm every day? \n",
    "\n",
    "Using indexing you can assign two or three values. If you assign two (as we've done until now), you assign start and stop: `[start:stop]`. If you use three values, you also assign the \"step\": `[start:stop:step]`. If you want every second value between a and b, you write `[a:b:2]`. Remember that it's still `a` until but not including `b`. If you want to subsample the entire time series, write `[::step]`. \n",
    "\n",
    "If `a=5` and `b=20` `step=2` you'll get:"
   ]
  },
  {
   "cell_type": "code",
   "execution_count": 24,
   "metadata": {},
   "outputs": [
    {
     "data": {
      "text/plain": [
       "array([1866., 1868., 1870., 1872., 1874., 1876., 1878., 1880.])"
      ]
     },
     "execution_count": 24,
     "metadata": {},
     "output_type": "execute_result"
    }
   ],
   "source": [
    "time[5:20:2]"
   ]
  },
  {
   "cell_type": "markdown",
   "metadata": {},
   "source": [
    "### Exercise 6\n",
    "Find the temperature for every 10th year from the beginning to the end of the time series. Write out the years as well to check that your indexing is correct. "
   ]
  },
  {
   "cell_type": "code",
   "execution_count": null,
   "metadata": {},
   "outputs": [],
   "source": []
  },
  {
   "cell_type": "markdown",
   "metadata": {},
   "source": [
    "## Oppgave 7\n",
    "Finn temperaturen for hvert tiende år siden 1870 frem til og med 2016. Skriv igjen ut årene i tillegg (for å sjekke at indekseringen du har satt stemmer).\n",
    "\n",
    "Her kan du igjen benytte Metode 1 eller 2 for å finne årene mellom 1870 og 2016. Du kan enten finne indeksen til 1870 og indeksen il 2016 separat og så printe ut hvert tiende år/hver tiende temperatur mellom disse indeksene, ELLER, du kan finne indeksen til alle år mellom 1870 og 2016 og plugge hver tidende av disse indeksene inn i \"tid\". \n",
    "\n",
    "Du kan komme til å støte på dette problemet: du får en output av idt som er `idt=(array([9, 10, 11, ...]))`. For å velge bestemte indekser av dette outputtet må den ytterste parantesen vekk. For å få til dette skriver man `idt=idt[0]`. Da går man \"et nivå ned\" i `itd` og unngår den ytterste parantesen. Du kan nå indeksere idt. "
   ]
  },
  {
   "cell_type": "code",
   "execution_count": null,
   "metadata": {},
   "outputs": [],
   "source": []
  },
  {
   "cell_type": "markdown",
   "metadata": {},
   "source": [
    "*Et notat til cellen over: man trenger ikke alltid lage variabler for alt. Man trenger for eksempel ikke \"omdøpe\" `idt[0]` til `idt`, man kan bruke `idt[0]` direkte.*\n",
    "- Har du for eksempel en vektor med indekser via Metode 2, men vil bare ha annenhver verdi kan du skrive `tid[idt[0][0::2]]`. \n",
    "- Dette er det samme som `tid[idt[0][0:-1:2]]`. \n",
    "    - `idt[0]` gjør at du unngår den ytterste parantesen du får når du bruker np.where. \n",
    "    - `idt[0][0::2]` gjør at at du unngår den første parantesen, og velger ut annenhver indeks fra start til slutt. \n",
    "    - `tid[idt[0][0::2]]` gjør at du ikke bare får indeksene men de faktiske tid-verdiene. \n",
    "    \n",
    "- Ved å skrive alt dette i en linje slipper man mange mellomvariabler, som kan gjøre koden ryddig og oversiktlig. Det finnes selvfølgelig en grense - blir koden FOR kompakt og linjene FOR lange blir det fort uoversiktlig. Men dette er litt smak og behag, og så lenge man kommenterer godt i koden sin og forklarer hva som skjer blir det meste bra."
   ]
  },
  {
   "cell_type": "markdown",
   "metadata": {},
   "source": [
    "## Oppgave 8\n",
    "Lag en figur som viser hele temperaturtidsserien, men plot også hvert tiende år på samme figur. Synes du tidsserien blir godt representert ved å bare se på hvert tiende år? I en seinere oppgave, f.eks. en om for-løkker (NAT624/Del8 eller Nedbørsoppgaven/Del5), ser vi på hvordan man kan representere datasettet ved å ta gjennomsnittet over tiårsperioder. Hvordan tror du denne tidsserien representerer datasettet i forhold til den figuren vi har her?"
   ]
  },
  {
   "cell_type": "code",
   "execution_count": null,
   "metadata": {},
   "outputs": [],
   "source": []
  },
  {
   "cell_type": "markdown",
   "metadata": {},
   "source": [
    "### Del 6: Del et datasett inn i et gitt antall like lange perioder\n",
    "I stedet for å se på f.eks. hvert tiende, tyvende, 55te,  etc. år kan det være man vil dele tidsserien inn i f.eks. fire like lange tidsperioder. Da må man ta utgangspunkt i lengden til tidsseerien, og så finne indeksene som deler tidsserien inn i antallet bolker man er ute etter. Siden det ikke er sikkert at lengden til tidsserien er perfekt delelig på antall tidsperioder du vil dele den inn i må man passe på at inndelingen man finner kan brukes som indekser, altså være heltall. \n",
    "\n",
    "Vi tar utganspunkt i at vi vil dele tidsserien vår i tre like bolker.\n",
    "\n",
    "*Et notat til cellen under:* Noen ganger er det praktisk å dele linjer opp. Det er standard å ta linjeskift rett etter første parantes, da hopper man automatisk fire mellomrom inn på neste linje. Så fordeler man innholdet i parantesen på linjer slik man synes er logisk. Rett før den avsluttende parantesen lager man et nytt linjeskift. Denne parantesen hopper automatisk tilbake til margen. På den måten er det lett å se hvor bolken avsluttes."
   ]
  },
  {
   "cell_type": "code",
   "execution_count": 31,
   "metadata": {},
   "outputs": [
    {
     "data": {
      "text/plain": [
       "[0, 53.333333333333336, 106.66666666666667, 160]"
      ]
     },
     "execution_count": 31,
     "metadata": {},
     "output_type": "execute_result"
    }
   ],
   "source": [
    "ind=[\n",
    "    0,            # startindeks\n",
    "    len(tid)/3,   # indeksen som markerer den første tredelen \n",
    "    2*len(tid)/3, # indeksen som markerer den andre tredelen\n",
    "    len(tid)      # sluttindeksen\n",
    "]     \n",
    "ind"
   ]
  },
  {
   "cell_type": "markdown",
   "metadata": {},
   "source": [
    "Disse veridene kan ikke brukes som indekser. De må både rundes av til heltall og konverteres fra *float* til *integer*."
   ]
  },
  {
   "cell_type": "code",
   "execution_count": 32,
   "metadata": {},
   "outputs": [
    {
     "data": {
      "text/plain": [
       "[0, 53, 106, 160]"
      ]
     },
     "execution_count": 32,
     "metadata": {},
     "output_type": "execute_result"
    }
   ],
   "source": [
    "ind=[\n",
    "    0,\n",
    "    int(np.round(len(tid)/3)),  \n",
    "    2*int(np.round(len(tid)/3)),\n",
    "    len(tid)\n",
    "] \n",
    "ind"
   ]
  },
  {
   "cell_type": "markdown",
   "metadata": {},
   "source": [
    "Disse KAN brukes som indekser. Vil man f.eks plotte kun siste tredel av tidperioden kan man nå skrive:"
   ]
  },
  {
   "cell_type": "code",
   "execution_count": 33,
   "metadata": {},
   "outputs": [
    {
     "data": {
      "image/png": "[encoded data removed]",
      "text/plain": [
       "<Figure size 432x288 with 1 Axes>"
      ]
     },
     "metadata": {
      "needs_background": "light"
     },
     "output_type": "display_data"
    }
   ],
   "source": [
    "plt.plot(tid[ind[2]:ind[-1]], temp[ind[2]:ind[-1]])\n",
    "plt.title('Gjennomsnittlig årsnedbør Bergen')\n",
    "plt.xlabel('År')\n",
    "plt.ylabel('Temperatur [\\u2103]')\n",
    "plt.show()\n"
   ]
  },
  {
   "cell_type": "markdown",
   "metadata": {},
   "source": [
    "Man kunne også skrevet det mer kompakt, slik som under, men i blant har man behov for å lagre indeksen til alle inndelingene, for eksempel hvis man vil plotte alle tidsperiodene i samme figur. Dette gir mening hvis man f.eks. vil plotte standardavviket til hver periode, trendlinjer til hver periode, eller andre variabler basert på tidsserien man har.\n",
    "\n",
    "I tillegg blir det fort rotete og vanskelig å lese koden når man gjør alt på en gang i få linjer. "
   ]
  },
  {
   "cell_type": "code",
   "execution_count": 34,
   "metadata": {},
   "outputs": [
    {
     "data": {
      "image/png": "[encoded data removed]",
      "text/plain": [
       "<Figure size 432x288 with 1 Axes>"
      ]
     },
     "metadata": {
      "needs_background": "light"
     },
     "output_type": "display_data"
    }
   ],
   "source": [
    "plt.plot(\n",
    "    tid[2*int(np.round(len(tid)/3)):], \n",
    "    temp[2*int(np.round(len(tid)/3)):]\n",
    ")\n",
    "plt.title('Gjennomsnittlig årsnedbør Bergen')\n",
    "plt.xlabel('År')\n",
    "plt.ylabel('Temperatur [\\u2103]')\n",
    "plt.show()"
   ]
  },
  {
   "cell_type": "markdown",
   "metadata": {},
   "source": [
    "## Oppgave 9\n",
    "- Del tidsserien inn i fire like lange bolker. \n",
    "- Plot de to midterste bolkene i samme figur.\n",
    "- For å vise tydeligere at dette er de to midterste bolkene: plot hele tidsserien i bakgrunnen. "
   ]
  },
  {
   "cell_type": "code",
   "execution_count": null,
   "metadata": {},
   "outputs": [],
   "source": []
  },
  {
   "cell_type": "code",
   "execution_count": null,
   "metadata": {},
   "outputs": [],
   "source": []
  },
  {
   "cell_type": "code",
   "execution_count": null,
   "metadata": {},
   "outputs": [],
   "source": []
  },
  {
   "cell_type": "code",
   "execution_count": null,
   "metadata": {},
   "outputs": [],
   "source": []
  }
 ],
 "metadata": {
  "kernelspec": {
   "display_name": "Python 3",
   "language": "python",
   "name": "python3"
  },
  "language_info": {
   "codemirror_mode": {
    "name": "ipython",
    "version": 3
   },
   "file_extension": ".py",
   "mimetype": "text/x-python",
   "name": "python",
   "nbconvert_exporter": "python",
   "pygments_lexer": "ipython3",
   "version": "3.8.5"
  }
 },
 "nbformat": 4,
 "nbformat_minor": 4
}
