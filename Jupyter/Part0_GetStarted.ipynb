{
 "cells": [
  {
   "cell_type": "markdown",
   "metadata": {},
   "source": [
    "# Jupyter notebook and programming in Python\n",
    "\n",
    "We've chosen to use Jupyter Notebooks in this starter-course in Python because it provides a structured way of including code, notes, and graphics in the same document. \n",
    "\n",
    "In this first notebook we'll go thorugh some terminiology and general rules for programming in Python. The introduction to how you actually work with variables and data comes in the next part: Part 2, Introduction to programming in Python. \n",
    "\n",
    "\n",
    "___________\n",
    "\n",
    "### 1. The components of a Jupyter notebook\n",
    "\n",
    "A notebook consists of **cells**. These cells are either **code**-cells written in Python, or **markdown**-cells with normal text (just like this cell). The cells are automatically code-cells. To make a code-cell into a text-cell you press **Esc+m**, where **Esc** brings you into **Command mode** and the **m** stands for markdown. There are lots of shortcuts like this one. By entering **command mode** you can navigate between cells with the arrows, add cells, remove them etc. To enter a cell to edit the content press **Enter** or double click the cell. This brings you out of command mode and into **edit mode**. For an overview of all these shortcuts, press **Esc+h**. \n",
    "\n",
    "The **script** is this entire file with code and text cells. \n",
    "\n",
    "To **run** a cell you can press **Shift+Enter** or **Ctrl+Enter** while standing in the cell you want to run. \n",
    "\n",
    "You can press **Enter** or double click this cell to see how the headers and thick font is specified. Run the cell (**Shift+Enter** or **Ctrl+Enter**) to format the cell. \n",
    "\n",
    "The cell below is an example of a code cell while this cell is a markdown cell.\n"
   ]
  },
  {
   "cell_type": "code",
   "execution_count": 2,
   "metadata": {},
   "outputs": [
    {
     "name": "stdout",
     "output_type": "stream",
     "text": [
      "This is Python-code\n"
     ]
    }
   ],
   "source": [
    "print('This is Python-code')"
   ]
  },
  {
   "cell_type": "code",
   "execution_count": 3,
   "metadata": {},
   "outputs": [],
   "source": [
    "# You can write comments in a code-cell by writing \"#\" first."
   ]
  },
  {
   "cell_type": "markdown",
   "metadata": {},
   "source": [
    "#### This is the most important advice in this script!\n",
    "Comments in a code-cell are useful to explain what happens on specific lines in the code. Although you remember what the code does when you write it, you will probably not remember the details in a week or two, or a month. Often there is a lot of logic going on that is not selfexplanatory. In those cases it is useful with some comments that explain what the code does. \n"
   ]
  },
  {
   "cell_type": "code",
   "execution_count": 4,
   "metadata": {},
   "outputs": [],
   "source": [
    "Temp=3 # temperaturen er 3 grader C"
   ]
  },
  {
   "cell_type": "markdown",
   "metadata": {},
   "source": [
    "The cell above creates a *variable*. **Temp** is now stored as a variable in this run (i.e., this session that started when you opened the script and ends when you close the script). Next time you open this script you have to run this line again. More about variables comes in the next part, Part1: intro to programming in Python. \n"
   ]
  },
  {
   "cell_type": "markdown",
   "metadata": {},
   "source": [
    "### 2. Syntax\n",
    "\n",
    "**Syntax** is the grammer for coding. For instance, when we write `print('hello')`, `print('')` is the syntax to write out text in a code cell. "
   ]
  },
  {
   "cell_type": "code",
   "execution_count": 5,
   "metadata": {},
   "outputs": [
    {
     "name": "stdout",
     "output_type": "stream",
     "text": [
      "hello\n"
     ]
    }
   ],
   "source": [
    "print('hello')"
   ]
  },
  {
   "cell_type": "markdown",
   "metadata": {},
   "source": [
    "The syntax has to be **correct**. Python does not understand the difference between e.g., a new variable and a typo. This is useful because it means that we know exactly what our program does - it does exactly what we've written. "
   ]
  },
  {
   "cell_type": "code",
   "execution_count": 6,
   "metadata": {},
   "outputs": [
    {
     "ename": "SyntaxError",
     "evalue": "unexpected EOF while parsing (<ipython-input-6-0fbf586d1e57>, line 2)",
     "output_type": "error",
     "traceback": [
      "\u001b[1;36m  File \u001b[1;32m\"<ipython-input-6-0fbf586d1e57>\"\u001b[1;36m, line \u001b[1;32m2\u001b[0m\n\u001b[1;33m    print('hello'\u001b[0m\n\u001b[1;37m                 ^\u001b[0m\n\u001b[1;31mSyntaxError\u001b[0m\u001b[1;31m:\u001b[0m unexpected EOF while parsing\n"
     ]
    }
   ],
   "source": [
    "# What happens if we use the wrong syntax, e.g., forget an ending parenteses in a print statement?\n",
    "print('hello'"
   ]
  },
  {
   "cell_type": "code",
   "execution_count": 7,
   "metadata": {},
   "outputs": [
    {
     "ename": "NameError",
     "evalue": "name 'temp' is not defined",
     "output_type": "error",
     "traceback": [
      "\u001b[1;31m---------------------------------------------------------------------------\u001b[0m",
      "\u001b[1;31mNameError\u001b[0m                                 Traceback (most recent call last)",
      "\u001b[1;32m<ipython-input-7-65fbcaccd99a>\u001b[0m in \u001b[0;36m<module>\u001b[1;34m\u001b[0m\n\u001b[0;32m      1\u001b[0m \u001b[1;31m# Or if we write the variable Temp with a small t?\u001b[0m\u001b[1;33m\u001b[0m\u001b[1;33m\u001b[0m\u001b[1;33m\u001b[0m\u001b[0m\n\u001b[1;32m----> 2\u001b[1;33m \u001b[0mtemp\u001b[0m\u001b[1;33m\u001b[0m\u001b[1;33m\u001b[0m\u001b[0m\n\u001b[0m",
      "\u001b[1;31mNameError\u001b[0m: name 'temp' is not defined"
     ]
    }
   ],
   "source": [
    "# Or if we write the variable Temp with a small t?\n",
    "temp"
   ]
  },
  {
   "cell_type": "code",
   "execution_count": 8,
   "metadata": {},
   "outputs": [
    {
     "data": {
      "text/plain": [
       "3"
      ]
     },
     "execution_count": 8,
     "metadata": {},
     "output_type": "execute_result"
    }
   ],
   "source": [
    "Temp"
   ]
  },
  {
   "cell_type": "markdown",
   "metadata": {},
   "source": [
    "The Python-syntax is **case-sensitive**. `T` does **not** equal `t`. "
   ]
  },
  {
   "cell_type": "markdown",
   "metadata": {},
   "source": [
    "###  Running in chronological order\n",
    "\n",
    "The order you run cells in is important because Python only knows exactly what you've specified.\n",
    "Every time you open a script you have to run through the cells again in chronological order. If you're working with e.g., a dataset you have to load the dataset every time you open the script - the program does not remember.\n"
   ]
  },
  {
   "cell_type": "code",
   "execution_count": 9,
   "metadata": {},
   "outputs": [
    {
     "ename": "NameError",
     "evalue": "name 'b' is not defined",
     "output_type": "error",
     "traceback": [
      "\u001b[1;31m---------------------------------------------------------------------------\u001b[0m",
      "\u001b[1;31mNameError\u001b[0m                                 Traceback (most recent call last)",
      "\u001b[1;32m<ipython-input-9-7818f3ee9817>\u001b[0m in \u001b[0;36m<module>\u001b[1;34m\u001b[0m\n\u001b[0;32m      3\u001b[0m \u001b[1;31m# Python won't be able to add a and b as long as b is defined at the end\u001b[0m\u001b[1;33m\u001b[0m\u001b[1;33m\u001b[0m\u001b[1;33m\u001b[0m\u001b[0m\n\u001b[0;32m      4\u001b[0m \u001b[0ma\u001b[0m\u001b[1;33m=\u001b[0m\u001b[1;36m4\u001b[0m\u001b[1;33m\u001b[0m\u001b[1;33m\u001b[0m\u001b[0m\n\u001b[1;32m----> 5\u001b[1;33m \u001b[0mprint\u001b[0m\u001b[1;33m(\u001b[0m\u001b[0ma\u001b[0m\u001b[1;33m+\u001b[0m\u001b[0mb\u001b[0m\u001b[1;33m)\u001b[0m\u001b[1;33m\u001b[0m\u001b[1;33m\u001b[0m\u001b[0m\n\u001b[0m\u001b[0;32m      6\u001b[0m \u001b[0mb\u001b[0m\u001b[1;33m=\u001b[0m\u001b[1;36m2\u001b[0m\u001b[1;33m\u001b[0m\u001b[1;33m\u001b[0m\u001b[0m\n",
      "\u001b[1;31mNameError\u001b[0m: name 'b' is not defined"
     ]
    }
   ],
   "source": [
    "# Example: Python runs one line at the time. \n",
    "# Although all the information needed to add a and b exist in this code-cell, \n",
    "# Python won't be able to add a and b as long as b is defined at the end\n",
    "a=4\n",
    "print(a+b)\n",
    "b=2"
   ]
  },
  {
   "cell_type": "code",
   "execution_count": 10,
   "metadata": {},
   "outputs": [
    {
     "name": "stdout",
     "output_type": "stream",
     "text": [
      "6\n"
     ]
    }
   ],
   "source": [
    "a=4\n",
    "c=2\n",
    "print(a+c)"
   ]
  },
  {
   "cell_type": "markdown",
   "metadata": {},
   "source": [
    "### 3. Bibliotek og funksjoner\n",
    "\n",
    "I så godt som alle python-skript må du starte med å laste inn **bibliotek**. Dette er python-kode som andre har utviklet og som vi trenger for å gjøre regneoperasjoner og databehandling. Når folk snakker om **bibliotek** og **pakker** mener de det samme. "
   ]
  },
  {
   "cell_type": "code",
   "execution_count": 10,
   "metadata": {},
   "outputs": [],
   "source": [
    "import numpy \n",
    "import matplotlib"
   ]
  },
  {
   "cell_type": "markdown",
   "metadata": {},
   "source": [
    "**numpy** og **matplotlib** er to slike bibliotek. Akkurat disse bruker vi til å gjøre matematiske operasjoner og å lage figurer. For å bruke funksjonene som numpy og matplotlob inneholder må vi først kjøre cellen over. "
   ]
  },
  {
   "cell_type": "markdown",
   "metadata": {},
   "source": [
    "En **funksjon** er en operasjon eller metode. Man kan lage funksjoner selv og bruke funksjoner fra pakker som `Numpy` og `matplotlib`."
   ]
  },
  {
   "cell_type": "code",
   "execution_count": 11,
   "metadata": {},
   "outputs": [
    {
     "data": {
      "text/plain": [
       "11"
      ]
     },
     "execution_count": 11,
     "metadata": {},
     "output_type": "execute_result"
    }
   ],
   "source": [
    "numpy.max([2, 6, 11, 9])"
   ]
  },
  {
   "cell_type": "markdown",
   "metadata": {},
   "source": [
    "Disse bruker **dot-notasjon**: for å bruke en funksjon fra et bibliotek skriver man navnet til biblioteket, så et punktum, og så navnet på funksjonen. "
   ]
  },
  {
   "cell_type": "code",
   "execution_count": 12,
   "metadata": {},
   "outputs": [
    {
     "data": {
      "text/plain": [
       "1.5"
      ]
     },
     "execution_count": 12,
     "metadata": {},
     "output_type": "execute_result"
    }
   ],
   "source": [
    "# Numpy har en funksjon som tar gjennomsnitt\n",
    "numpy.mean([3, 7, 1, -5])"
   ]
  },
  {
   "cell_type": "code",
   "execution_count": 13,
   "metadata": {},
   "outputs": [],
   "source": [
    "# Vanligvis forkorter man numpy til np:\n",
    "import numpy as np"
   ]
  },
  {
   "cell_type": "code",
   "execution_count": 14,
   "metadata": {},
   "outputs": [
    {
     "data": {
      "text/plain": [
       "0.5"
      ]
     },
     "execution_count": 14,
     "metadata": {},
     "output_type": "execute_result"
    }
   ],
   "source": [
    "np.mean([5, 2, 7, -12])"
   ]
  },
  {
   "cell_type": "markdown",
   "metadata": {},
   "source": [
    "**Matplotlib** har en undermappe som heter **Pyplot** - her ligger nesten alle funksjonene vi trenger fra Matplotlib, så vanligvis importerer vi denne direkte, og forkorter den til **plt**:"
   ]
  },
  {
   "cell_type": "code",
   "execution_count": 15,
   "metadata": {},
   "outputs": [],
   "source": [
    "import matplotlib.pyplot as plt"
   ]
  },
  {
   "cell_type": "markdown",
   "metadata": {},
   "source": [
    "**plt** har bl.a. en funksjon som heter **plot** som vi bruker til linjeplot:"
   ]
  },
  {
   "cell_type": "code",
   "execution_count": 16,
   "metadata": {},
   "outputs": [
    {
     "data": {
      "text/plain": [
       "[<matplotlib.lines.Line2D at 0x7fcf629cce50>]"
      ]
     },
     "execution_count": 16,
     "metadata": {},
     "output_type": "execute_result"
    },
    {
     "data": {
      "image/png": "[encoded data removed]",
      "text/plain": [
       "<Figure size 640x480 with 1 Axes>"
      ]
     },
     "metadata": {},
     "output_type": "display_data"
    }
   ],
   "source": [
    "plt.plot([1, 2, 3, 4, 5], [5, 3, 2, 1.5, 1.3])"
   ]
  },
  {
   "cell_type": "markdown",
   "metadata": {},
   "source": [
    "Vi kommer tilbake til hvordan vi lager finere figurer seinere, og er du spesielt nteressert i dette kan du se på oppgavene [Konseptoppgaver/Figurer.ipynb](https://github.com/irendundas/EkteData/blob/main/Konseptoppgaver/Figurer.ipynb) og [Nedbørsoppgaven/Del3 Plotting av tidsserier](https://github.com/irendundas/EkteData/blob/main/Nedb%C3%B8rsoppgaven/Del3_Plotting_av_tidsserier.ipynb)."
   ]
  },
  {
   "cell_type": "markdown",
   "metadata": {},
   "source": [
    "Med kjennskap til disse grunnleggende konseptene og begrepene har vi kontroll på hvordan vi skal sette i gang med å jobbe med Python :D"
   ]
  }
 ],
 "metadata": {
  "kernelspec": {
   "display_name": "EkteData",
   "language": "python",
   "name": "python3"
  },
  "language_info": {
   "codemirror_mode": {
    "name": "ipython",
    "version": 3
   },
   "file_extension": ".py",
   "mimetype": "text/x-python",
   "name": "python",
   "nbconvert_exporter": "python",
   "pygments_lexer": "ipython3",
   "version": "3.8.5"
  }
 },
 "nbformat": 4,
 "nbformat_minor": 5
}
